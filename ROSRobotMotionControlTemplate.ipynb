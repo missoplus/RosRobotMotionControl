{
 "cells": [
  {
   "cell_type": "markdown",
   "id": "3a0d2751-7733-413b-aed0-2d58309c041b",
   "metadata": {},
   "source": [
    "# ROS Robot Motion Control\n",
    "## Modeling and Control of Robotic Manipulators\n",
    "\n",
    "Reminder: Follow the steps in the instruction files in the moodle course for using VM, ROS and Matlab"
   ]
  },
  {
   "cell_type": "code",
   "execution_count": 1,
   "id": "82cf5b62-a6c8-41b9-85fc-86fea10baf8a",
   "metadata": {},
   "outputs": [],
   "source": [
    "%matplotlib widget\n",
    "import os\n",
    "import sys\n",
    "sys.path.append(\"/opt/ros/noetic/lib/python3/dist-packages\")\n",
    "import scipy\n",
    "import numpy as np\n",
    "import roboticstoolbox as rtb\n",
    "from spatialmath import SE3\n",
    "from spatialmath.base import *\n",
    "import rospy\n",
    "from trajectory_msgs.msg import JointTrajectory, JointTrajectoryPoint\n",
    "from sensor_msgs.msg import JointState\n",
    "import time\n",
    "import matplotlib.pyplot as plt\n",
    "\n",
    "from helperFunctions import JointVec2JointTrajectoryMsg, JointVec2FollowJointTrajectoryMsg\n",
    "\n",
    "name_list = [\"shoulder_pan_joint\",\"shoulder_lift_joint\",\"elbow_joint\",\"wrist_1_joint\",\"wrist_2_joint\",\"wrist_3_joint\"]\n",
    "jointStateMsg = JointState()\n",
    "\n",
    "def jointStateCallback(msg):\n",
    "    global jointStateMsg\n",
    "    jointStateMsg = msg"
   ]
  },
  {
   "cell_type": "markdown",
   "id": "002d4099-a294-48c1-aa18-27f970c2eaea",
   "metadata": {},
   "source": [
    "## Inverse Kinematics\n",
    "### 1.    Inverse Kinematics\n",
    "Generate an inverse kinematics solver object `iksolver` for the rigid body tree object _ur_."
   ]
  },
  {
   "cell_type": "code",
   "execution_count": 2,
   "id": "dc497e84-7f3e-4772-a652-42ce5b2987c0",
   "metadata": {},
   "outputs": [],
   "source": [
    "# import ur10.urdf\n",
    "notebook_path = os.getcwd()\n",
    "ur10_file_path = notebook_path + \"/ur10.urdf\"\n",
    "ur10 = ...\n",
    "\n",
    "# initialize an inverse kinematic solver\n",
    "mask = [1, 1, 1, 1, 1, 1]\n",
    "ik = ..."
   ]
  },
  {
   "cell_type": "markdown",
   "id": "70b45340-0a92-45e8-a9da-ee5c6015c64f",
   "metadata": {},
   "source": [
    "### 2. Define a target pose\n",
    "Define a target pose in terms of a transform _tformTargetPose_ that results from a translation $[d_x \\ d_y \\ d_z]^T =[0.6 \\ 0 \\ 1.0]^T$ and a rotation by Euler angles $[\\phi \\ \\theta \\ \\psi]^T=[\\pi/4  \\ \\pi/4  \\ -\\pi/4]^T$."
   ]
  },
  {
   "cell_type": "code",
   "execution_count": null,
   "id": "314a31f6-573a-46f6-84ce-eafc9300fd95",
   "metadata": {},
   "outputs": [],
   "source": [
    "targetPosition = [0.6, 0, 1.0]\n",
    "targetOrientation = [-np.pi / 4, np.pi / 4, np.pi / 4]\n",
    "\n",
    "tformTrans = ...\n",
    "tformRot = ...\n",
    "tformTargetPose = ... @ ...\n",
    "print(tformTargetPose)"
   ]
  },
  {
   "cell_type": "markdown",
   "id": "a57891cf-4794-4519-844e-f235c20343c3",
   "metadata": {},
   "source": [
    "### 3. Determine the targetConf with the initialized ikSolver object above\n",
    "Determine the inverse kinematics solution targetConf with the method `ik.solve` for the target pose of the end effector link frame _'ee_link'_ with a unit error weight vector $w=[1 \\ 1 \\ 1 \\ 1 \\ 1 \\ 1]$. "
   ]
  },
  {
   "cell_type": "code",
   "execution_count": null,
   "id": "b410ced9-1069-4801-9b87-cdf0fe81238e",
   "metadata": {},
   "outputs": [],
   "source": [
    "initial_guess = [0, 1, -2, 2, 1, 1]\n",
    "targetConf, _, _, _, _, _ = ik.solve(...)\n",
    "print(targetConf)"
   ]
  },
  {
   "cell_type": "markdown",
   "id": "8ec180a3-5f8b-4676-98e5-87a4299eaeb7",
   "metadata": {},
   "source": [
    "## ROS\n",
    "### 4. Simulate the UR robot motion in Gazebo\n",
    "To simulate the UR robot motion in Gazebo invoke the following launch files:\n",
    "\n",
    "    roslaunch ur_launch ur10_sim_gazebo.launch rqt:=false\n",
    "\n",
    "The launch file starts Gazebo (hidden), RViz and the ROS controllers without the RQT interface.\t"
   ]
  },
  {
   "cell_type": "markdown",
   "id": "2921eee5-69a5-454c-89a5-ff72563cc92d",
   "metadata": {},
   "source": [
    "### 5. Connect to ROS\n",
    "Connect to the ROS master on the local host from within the Jupyter Notebook with `rospy.init_node`"
   ]
  },
  {
   "cell_type": "code",
   "execution_count": 5,
   "id": "f707f779-353a-4282-8f15-57d63e2d703a",
   "metadata": {},
   "outputs": [],
   "source": [
    "..."
   ]
  },
  {
   "cell_type": "markdown",
   "id": "c06f984f-1ea6-4c02-8c60-0f4b7942142c",
   "metadata": {},
   "source": [
    "### 6. Show topics\n",
    "Query the topics that are currently available on the network and obtain information about the topic _'/ur10/joint_states'_ in particular the message type.\n",
    "\n",
    "You notice that the JointStatePublisher publishes on the topic _'/ur10/joint_states'_"
   ]
  },
  {
   "cell_type": "code",
   "execution_count": 6,
   "id": "4d51cdcd-fe59-4c98-a441-692fedaaf13f",
   "metadata": {},
   "outputs": [],
   "source": [
    "# rostopic list\n",
    "# rostopic info /ur10/joint_states\n",
    "# rostopic info ur10/vel_based_pos_traj_controller/command"
   ]
  },
  {
   "cell_type": "markdown",
   "id": "8ee2be02-6058-4e16-882a-b4862774f4d3",
   "metadata": {},
   "source": [
    "### 7. Instantiate a subscriber for the topic above and receive messages\n",
    "Instantiate a subscriber in the Jupyter Notebook for this topic and receive a message for the joint states.\n",
    "\n",
    "Inspect the field _jointstate.Position_ which denotes the vector of joint variables. The first six elements correspond to joints _shoulder_pan_joint_ to _wrist_3_joint_."
   ]
  },
  {
   "cell_type": "code",
   "execution_count": null,
   "id": "73e8b019-da35-42d9-9105-6b518ffff862",
   "metadata": {},
   "outputs": [],
   "source": [
    "rospy.Subscriber(...)"
   ]
  },
  {
   "cell_type": "markdown",
   "id": "2a4575fd-49d7-4bab-9c94-a7eb62424c0d",
   "metadata": {},
   "source": [
    "## Trajectory Control via Topic Interface\n",
    "### 8. Information about ros message and helper function\n",
    "Trajectory commands of message type _trajectory_msgs/JointTrajectory_ are published on the topic  _/ur10/vel_based_pos_traj_controller/command_. Notice that the function `jointStateCallback` saves the received messages in a global variable _jointStateMsg_.\n",
    "\n",
    "The message type has the components _Header_, _JointNames_ and _Points_. _JointNames_ refer to the joint names in the URDF description of the robot. _Points_ is an array of waypoints (_JointTrajectoryPoint_) that constitutes the sequence of poses plus time intervals the robot is supposed to track. Each _JointTrajectoryPoint_ of message type _trajectory_msgs/TrajectoryPoint_ has the components _Positions, Velocities and Accelerations_ which correspond to joint state vector $\\mathbf{q}$, joint velocity vector $\\dot{\\mathbf{q}}$ and joint acceleration vector $\\ddot{\\mathbf{q}}$. The component _TimeFromStart_ specifies the time stamp of the waypoint, relative to the message time defined in the header of the _trajectory_msgs/JointTrajectory_ message.\n",
    "\n",
    "The helper function \n",
    "\n",
    "\t\tJointVec2JointTrajectoryMsg(q, t)\n",
    "\n",
    "maps the $n \\times m$ arrays of joint vectors _q_,  joint velocities _qvel_ and joint accelerations _qacc_ and the $n \\times 1$ vector of time stamps onto the corresponding joint trajectory message. The input argument _qvel_ and _qacc_ are optional and assume default zero values if omitted. "
   ]
  },
  {
   "cell_type": "markdown",
   "id": "781fecbb-95e1-4073-9683-686f7a8030cd",
   "metadata": {},
   "source": [
    "### 9. Perform a point to point motion\n",
    "Perform a point-to-point motion from the current configuration to the target configuration from task 3."
   ]
  },
  {
   "cell_type": "code",
   "execution_count": 8,
   "id": "f4b64914-cdee-4cb1-9e27-d27a6186de11",
   "metadata": {},
   "outputs": [],
   "source": [
    "# create publisher\n",
    "jointTrajectoryPub = rospy.Publisher(\n",
    "    \"/ur10/vel_based_pos_traj_controller/command\", JointTrajectory, queue_size=10\n",
    ")\n",
    "\n",
    "# convert target configuration\n",
    "q_target = targetConf\n",
    "t_target = 2.5\n",
    "\n",
    "# time offset to let robot finish motion\n",
    "t_offset = 3  # increase if robot does not reach it's configuration in time\n",
    "\n",
    "# send target configuration to the robot\n",
    "jointTrajectoryMsg = JointVec2JointTrajectoryMsg(...)\n",
    "jointTrajectoryMsg.header.stamp = rospy.Time.now()\n",
    "jointTrajectoryPub.publish(jointTrajectoryMsg)\n",
    "\n",
    "time.sleep(t_target + t_offset)"
   ]
  },
  {
   "cell_type": "markdown",
   "id": "f257c300-db92-4a56-85ea-396b6c7f94e4",
   "metadata": {},
   "source": [
    "### 10. Execute the rated loop that monitors the temporal evaluation of the joint state vector\n",
    "The motion command is executed in a fire and forget manner. Replace the pause command with a rated loop that monitors the temporal evolution of the joint state vector by subscribing to the _/ur10/joint_states_ topic. \n",
    "Access the robots state and velocity from the _jointStateMsg_\n",
    "\n",
    "        jointState = jointStateMsg.position\n",
    "        jointVel = jointStateMsg.velocity"
   ]
  },
  {
   "cell_type": "code",
   "execution_count": 9,
   "id": "c8cc029a-890d-473f-bfc3-207dd95576ce",
   "metadata": {},
   "outputs": [],
   "source": [
    "# Move to start configuration\n",
    "q_home = np.array([0, 0, 0, 0, 0, 0])\n",
    "t_home = 2.5\n",
    "\n",
    "jointTrajectoryMsg = JointVec2JointTrajectoryMsg(...)\n",
    "jointTrajectoryMsg.header.stamp = rospy.Time.now()\n",
    "jointTrajectoryPub.publish(jointTrajectoryMsg)\n",
    "\n",
    "time.sleep(t_home + t_offset)\n",
    "# Define target joint position and joint velocity\n",
    "qvel = np.array([0, 0, 0, 0, 0, 0])\n",
    "\n",
    "# Create rate object\n",
    "rate = 50\n",
    "# Hz\n",
    "# rateObj=robotics.Rate(rate);\n",
    "rateObj = rospy.Rate(rate)\n",
    "tf = t_target + 0.5\n",
    "# rateObj.reset; # reset time of rate object\n",
    "\n",
    "# Preallocation\n",
    "N = int(tf * rate)\n",
    "timeStamp = np.zeros((N, 1))\n",
    "jointStateStamped = np.zeros((N, 6))  # array to record joint pose\n",
    "jointVelStamped = np.zeros((N, 6))  # array to record joint velocity\n",
    "\n",
    "# Store start time\n",
    "t0 = jointStateMsg.header.stamp.to_sec()\n",
    "\n",
    "# Move and monitor\n",
    "jointTrajectoryMsg = JointVec2JointTrajectoryMsg(...)\n",
    "jointTrajectoryMsg.header.stamp = rospy.Time.now()\n",
    "jointTrajectoryPub.publish(jointTrajectoryMsg)\n",
    "\n",
    "for i in range(1, N):\n",
    "    # Receive and convert\n",
    "    jointState = jointStateMsg.position\n",
    "    jointVel = jointStateMsg.velocity\n",
    "    # Store signals\n",
    "    jointStateStamped[i, :] = jointState\n",
    "    jointVelStamped[i, :] = jointVel\n",
    "    timeStamp[i] = jointStateMsg.header.stamp.to_sec() - t0  # + msg_time*10^-9\n",
    "\n",
    "    rateObj.sleep()"
   ]
  },
  {
   "cell_type": "markdown",
   "id": "2344766a-d11b-448a-9fc1-77e38eb21e42",
   "metadata": {},
   "source": [
    "### 11.\tPlot the joint state and joint velocity\n",
    "Plot the joint state and joint velocity vector versus time as shown in figure 3. The joint motion profile is quintic to guarantee continuity of joint state, velocities and accelerations at way-points."
   ]
  },
  {
   "cell_type": "code",
   "execution_count": null,
   "id": "a1c05d75-192a-450a-a5e5-1f12c4ad6682",
   "metadata": {},
   "outputs": [],
   "source": [
    "plt.figure(1)\n",
    "\n",
    "# Plot joint states\n",
    "plt.subplot(211)\n",
    "# plt.xlim([0, 3])\n",
    "for i in range(jointStateStamped.shape[1]):\n",
    "    plt.plot(timeStamp, ..., label=f\"$q_{i+1}$\")\n",
    "plt.xlabel(\"$t$\", fontsize=12)\n",
    "plt.ylabel(\"$\\mathbf{q}$\", fontsize=12)\n",
    "plt.legend(loc=\"best\", fontsize=10)\n",
    "plt.title(\"Joint states for point to point motion\")\n",
    "plt.grid(True)\n",
    "\n",
    "# Plot joint velocities\n",
    "plt.subplot(212)\n",
    "# plt.xlim([0, 2.5])\n",
    "for i in range(jointVelStamped.shape[1]):\n",
    "    plt.plot(timeStamp, ..., label=f\"$\\dot{{q_{i+1}}}$\")\n",
    "plt.xlabel(\"$t$\", fontsize=12)\n",
    "plt.ylabel(\"$\\dot{\\mathbf{q}}$\", fontsize=12)\n",
    "plt.legend(loc=\"best\", fontsize=10)\n",
    "plt.title(\"Joint velocities for point to point motion\")\n",
    "plt.grid(True)\n",
    "\n",
    "# plt.tight_layout()\n",
    "plt.show()"
   ]
  },
  {
   "cell_type": "markdown",
   "id": "dbcb4cb4-3032-49d3-b825-f736c5bd0df9",
   "metadata": {},
   "source": [
    "### 12.\tPrepare a motion via two way-points\n",
    "A general trajectory is composed of a sequence of way-points. The joint trajectory commands accept multiple joint configurations with time stamps to be traversed in that order. Command a trajectory  composed of the intermediate way-point $\\mathbf{q}_{target}$ and final way-point $\\mathbf{q}_2=[-1 \\ 0 \\ -1 \\ 1 \\ 0 \\ 2]$. "
   ]
  },
  {
   "cell_type": "code",
   "execution_count": 11,
   "id": "09880b0e-fa97-48dd-9360-b8d8abfa0eaf",
   "metadata": {},
   "outputs": [],
   "source": [
    "# Back to home\n",
    "jointTrajectoryMsg = JointVec2JointTrajectoryMsg(q_home, t_home)\n",
    "jointTrajectoryMsg.header.stamp = rospy.Time.now()\n",
    "jointTrajectoryPub.publish(jointTrajectoryMsg)\n",
    "\n",
    "time.sleep(t_home + t_offset)\n",
    "\n",
    "# Create second waypoint\n",
    "t_targets = [2.5, 6.0]\n",
    "qf = np.array([-1, 0, -1, 1, 0, 2])\n",
    "q_targets = ...\n",
    "\n",
    "# task='12'\n",
    "task = \"14\"\n",
    "\n",
    "if task == \"12\":\n",
    "    # stop at intermediate way-point\n",
    "    qvel = np.zeros(...)  # stop at intermediate way-point\n",
    "elif task == \"14\":\n",
    "    # stop at intermediate way-point\n",
    "    qvel1 = [...]\n",
    "    qvelf = [...]\n",
    "    qvel = ..."
   ]
  },
  {
   "cell_type": "markdown",
   "id": "0384aa42-faec-4bd2-8646-f1650a2405a0",
   "metadata": {},
   "source": [
    "### 13.\tPerform motion via two way-points\n",
    "Command, record and plot the joint motion through multiple way-points with the same code as for the point to point motion. Notice, that \n",
    "\n",
    "\tJointVec2JointTrajectoryMsg(robot, q, t, qvel, qacc)\n",
    "\n",
    "accepts, a matrix of way-points q and a vector of time instances t. The motion is shown in figure 4. Notice, that the joint velocities at the intermediate way-point go to zero. This is desirable for joints $q_2,q_5$ which either stop or undergo a motion reversal at the first way-point. However, it seems awkward that joints $q_1,q_4$ come to a stop before continuing their movement."
   ]
  },
  {
   "cell_type": "code",
   "execution_count": null,
   "id": "df893ffc-8541-416c-993f-f17921f6844d",
   "metadata": {},
   "outputs": [],
   "source": [
    "tf = t_targets[-1] + 1.0\n",
    "# rateObj.reset; # reset time of rate object\n",
    "\n",
    "# Preallocation\n",
    "N = int(tf * rate)\n",
    "timeStamp = np.zeros((N, 1))\n",
    "jointStateStamped = np.zeros((N, 6))  # array to record joint pose\n",
    "jointVelStamped = np.zeros((N, 6))  # array to record joint velocity\n",
    "\n",
    "# Store start time\n",
    "t0 = jointStateMsg.header.stamp.to_sec()\n",
    "\n",
    "# Move and monitor\n",
    "\n",
    "jointTrajectoryMsg = JointVec2JointTrajectoryMsg(...)\n",
    "jointTrajectoryMsg.header.stamp = rospy.Time.now()\n",
    "jointTrajectoryPub.publish(jointTrajectoryMsg)\n",
    "\n",
    "for i in range(1, N):\n",
    "    # Receive and convert\n",
    "    # jointStateMsg=jointStateSub.receive();\n",
    "    # [jointState, jointVel]=JointStateMsg2JointState(ur10,jointStateMsg);\n",
    "    jointState = jointStateMsg.position\n",
    "    jointVel = jointStateMsg.velocity\n",
    "\n",
    "    # Store signals\n",
    "    jointStateStamped[i, :] = jointState\n",
    "    jointVelStamped[i, :] = jointVel\n",
    "    timeStamp[i] = jointStateMsg.header.stamp.to_sec() - t0  # + msg_time*10^-9\n",
    "\n",
    "    rateObj.sleep()\n",
    "\n",
    "# Plot results\n",
    "plt.figure(2)\n",
    "plt.clf()\n",
    "# Plot joint states\n",
    "plt.subplot(211)\n",
    "# plt.xlim([0, 3])\n",
    "for i in range(jointStateStamped.shape[1]):\n",
    "    plt.plot(timeStamp, ..., label=f\"$q_{i+1}$\")\n",
    "\n",
    "    for j in range(q_targets.shape[0]):\n",
    "        plt.plot(t_targets[j], ..., \"ko\")\n",
    "\n",
    "plt.xlabel(\"$t$\", fontsize=12)\n",
    "plt.ylabel(\"$\\mathbf{q}$\", fontsize=12)\n",
    "plt.legend(loc=\"best\", fontsize=10)\n",
    "plt.title(\"Joint states for point to point motion\")\n",
    "plt.grid(True)\n",
    "\n",
    "# Plot joint velocities\n",
    "plt.subplot(212)\n",
    "# plt.xlim([0, 2.5])\n",
    "for i in range(jointVelStamped.shape[1]):\n",
    "    plt.plot(timeStamp, ..., label=f\"$\\dot{{q_{i+1}}}$\")\n",
    "\n",
    "    for j in range(qvel.shape[0]):\n",
    "        plt.plot(t_targets[j], ..., \"ko\")\n",
    "plt.xlabel(\"$t$\", fontsize=12)\n",
    "plt.ylabel(\"$\\dot{\\mathbf{q}}$\", fontsize=12)\n",
    "plt.legend(loc=\"best\", fontsize=10)\n",
    "plt.title(\"Joint velocities for point to point motion\")\n",
    "plt.grid(True)\n",
    "\n",
    "# plt.tight_layout()\n",
    "plt.show()"
   ]
  },
  {
   "cell_type": "markdown",
   "id": "477945d0-058e-435c-afff-e670168002d9",
   "metadata": {},
   "source": [
    "### 14.\tModify the joint trajectory from task 12 and perform task 12 and 13\n",
    "Modify the joint trajectory command by imposing a velocity vector  for the first way-point. Notice, that for a smooth motion the joint velocities  should assume their maximum at the first way-point. The maximum velocity equals is twice as large as the average velocity given by \n",
    "\\begin{equation}\n",
    "\\mathbf{q}_{avg}=\\frac{\\mathbf{q}_f-\\mathbf{q}_i}{t_f}\n",
    "\\end{equation}\n",
    "in which $q_f$ denotes the final joint state, $q_i$ the initial joint state and $t_f$ the total time of motion. The commanded velocity at the final way-point $\\dot{\\mathbf{q}}_2$ should still be zero for all joints as the motion is supposed to stop at the end of the trajectory. The motion with corrected way-point velocities is shown in figure 5."
   ]
  },
  {
   "cell_type": "markdown",
   "id": "3ee1fecd-3e11-48d7-8a5f-5a3bc52e19e8",
   "metadata": {},
   "source": [
    "## Trajectory Control via Action Server and Client\n",
    "### 15. Display the current list of actions on the ROS network\n",
    "Display the current list of actions on the ROS network. Confirm that there is an action _'/ur10/vel_based_pos_traj_controller/follow_joint_trajectory'_ and inspect the topic\n",
    "Notice, that goal message is of type _control_msgs/FollowJointTrajectoryGoal_."
   ]
  },
  {
   "cell_type": "code",
   "execution_count": 13,
   "id": "ed97f786-b323-4c21-aeea-d3610b2b8099",
   "metadata": {},
   "outputs": [],
   "source": [
    "# rosaction list\n",
    "\n",
    "# rosaction info '/ur10/vel_based_pos_traj_controller/follow_joint_trajectory'"
   ]
  },
  {
   "cell_type": "markdown",
   "id": "8aed6090-45c7-4fbf-86e4-88c6c5a33cac",
   "metadata": {},
   "source": [
    "### 16.\tInstantiate an action client and an empty goal message\n",
    "Instantiate an action client followJointTrajectoryActClient  for the action '/ur10/vel_based_pos_traj_controller/follow_joint_trajectory'."
   ]
  },
  {
   "cell_type": "code",
   "execution_count": 14,
   "id": "cf956bb1-df03-4768-aef9-07f112dc869d",
   "metadata": {},
   "outputs": [],
   "source": [
    "# Bring in the SimpleActionClient\n",
    "import actionlib\n",
    "import control_msgs.msg"
   ]
  },
  {
   "cell_type": "code",
   "execution_count": 15,
   "id": "8e085eea-efb1-4ffb-8eab-c61952315eb8",
   "metadata": {},
   "outputs": [],
   "source": [
    "followJointTrajectoryTopicName = ...\n",
    "followJointTrajectoryActClient = actionlib.SimpleActionClient(\n",
    "    followJointTrajectoryTopicName, control_msgs.msg.FollowJointTrajectoryAction\n",
    ")\n",
    "followJointTrajectoryActClient.wait_for_server()\n",
    "followJointTrajectoryMsg = ..."
   ]
  },
  {
   "cell_type": "markdown",
   "id": "57d52add-9c20-4fba-9be3-b5a197a9cdd8",
   "metadata": {},
   "source": [
    "In case you have problems to initiate the action client, set the ROS_IP in your virtual machine by hand.\n",
    "Therefore, get the IP of your VM with \n",
    "\n",
    "    hostname -I\n",
    "\n",
    "and then set the ROS_IP with the shown IP\n",
    "\n",
    "    export ROS_IP=<outputHostname>\n",
    "\n",
    "Note that you have to do this for every new terminal window, or add it to your bashrc."
   ]
  },
  {
   "cell_type": "markdown",
   "id": "4d6f4e24-4a42-44ca-a879-87933ea44a62",
   "metadata": {},
   "source": [
    "### 17. Inspect the structure of the goal message\n",
    "Inspect the structure of _followJointTrajectoryMsg_. The field _followJointTrajectoryMsg.Trajectory_ corresponds to\tthe message type that you previously used for the topic interface. The message contains additional specification for path, goal and time tolerance, to monitor the accuracy of the commanded motion. "
   ]
  },
  {
   "cell_type": "code",
   "execution_count": null,
   "id": "0147b7e6-05cd-4cd2-94ac-bf919cb506e7",
   "metadata": {},
   "outputs": [],
   "source": [
    "followJointTrajectoryMsg"
   ]
  },
  {
   "cell_type": "markdown",
   "id": "0238fde5-1343-4f42-9b5f-2d9431b5c53a",
   "metadata": {},
   "source": [
    "### 18.    Inspect the helper function \n",
    "The helper function \n",
    "\n",
    "    JointVec2FollowJointTrajectoryMsg(robot, q, t, qvel, qacc)\n",
    "\n",
    "accepts a matrix of way-points _q_ (optional joint velocities _qvel_ and accelerations _qacc_) and a vector of time instances _t_ as input parameters and generates the corresponding _followJointTrajectoryMsg_."
   ]
  },
  {
   "cell_type": "markdown",
   "id": "5cb093c6-6924-47cb-9276-0ac74c546599",
   "metadata": {},
   "source": [
    "### 19.    Follow a trajectory via the action client (blocking)\n",
    "Generate a _followJointTrajectoryMsg_ from the previous waypoint sequence and inspect the message structure.\n",
    "Send the trajectory command message _followJointTrajectoryMsg_ via the action client _followJointTrajectoryActClient_ and wait for the action server to complete the trajectory (Funcion `send_goal_and_wait(...)`). Inspect the _resultMsg_ and _resultState_ (Function `get_result()`)."
   ]
  },
  {
   "cell_type": "code",
   "execution_count": null,
   "id": "d853afb1-7aba-4c0b-a840-37e24ace34ca",
   "metadata": {},
   "outputs": [],
   "source": [
    "# Back to home\n",
    "jointTrajectoryMsg = JointVec2JointTrajectoryMsg(...)\n",
    "jointTrajectoryMsg.header.stamp = rospy.Time.now()\n",
    "jointTrajectoryPub.publish(jointTrajectoryMsg)\n",
    "\n",
    "time.sleep(t_home + t_offset)\n",
    "\n",
    "# Create action msg\n",
    "followJointTrajectoryMsg = JointVec2FollowJointTrajectoryMsg(...);\n",
    "\n",
    "# Send message\n",
    "exec_timeout = rospy.Duration(10)\n",
    "prmpt_timeout = rospy.Duration(5)\n",
    "\n",
    "resultState = followJointTrajectoryActClient....\n",
    "resultMsg = followJointTrajectoryActClient....\n",
    "\n",
    "# Evaluate result\n",
    "if (resultMsg.error_code):\n",
    "    print('Arm motion error')\n",
    "    print(resultMsg)\n",
    "else:\n",
    "    print('UR arm motion completed with state ' + str(resultState) + '.')"
   ]
  },
  {
   "cell_type": "markdown",
   "id": "5880188b",
   "metadata": {},
   "source": [
    "### 20.    Follow a trajectory via the action client (non blocking)\n",
    "Generate a _followJointTrajectoryMsg_ from the previous waypoint sequence and inspect the message structure.\n",
    "Send the trajectory command message _followJointTrajectoryMsg_ via the action client _followJointTrajectoryActClient_ (Function `send_goal`). Inspect the _resultMsg_ and _resultState_. Note that you pass an callback (`done_cb`) for the result message as an argument to the function `send_goal`."
   ]
  },
  {
   "cell_type": "code",
   "execution_count": null,
   "id": "245dcbea-2c93-4ba7-93d4-2355a929e404",
   "metadata": {},
   "outputs": [],
   "source": [
    "# Back to home\n",
    "jointTrajectoryMsg = JointVec2JointTrajectoryMsg(q_home,t_home)\n",
    "jointTrajectoryMsg.header.stamp = rospy.Time.now()\n",
    "jointTrajectoryPub.publish(jointTrajectoryMsg)\n",
    "\n",
    "time.sleep(t_home + t_offset)\n",
    "\n",
    "# Create action msg\n",
    "followJointTrajectoryMsg = JointVec2FollowJointTrajectoryMsg(q_targets, t_targets, qvel);\n",
    "\n",
    "# Send message\n",
    "exec_timeout = rospy.Duration(10)\n",
    "prmpt_timeout = rospy.Duration(5)\n",
    "\n",
    "finished = False\n",
    "\n",
    "def done_cb(status, result):\n",
    "    global finished, resultMsg\n",
    "    ...\n",
    "\n",
    "timeStamp=[]\n",
    "jointStateStamped=[]\n",
    "jointVelStamped=[]\n",
    "t0 = jointStateMsg.header.stamp.to_sec()\n",
    "resultState = followJointTrajectoryActClient...\n",
    "i = 0\n",
    "\n",
    "while not finished:\n",
    "\n",
    "\n",
    "    # Receive and convert\n",
    "    #jointStateMsg=jointStateSub.receive()\n",
    "    #[jointState, jointVel]=JointStateMsg2JointState(ur10,jointStateMsg);\n",
    "    jointState = jointStateMsg.position\n",
    "    jointVel = jointStateMsg.velocity\n",
    "    \n",
    "    # Store signals\n",
    "    jointStateStamped.append(jointState)\n",
    "    jointVelStamped.append(jointVel)\n",
    "    timeStamp.append(jointStateMsg.header.stamp.to_sec() - t0)# + msg_time*10^-9\n",
    "    rateObj.sleep()\n",
    "    i+=1\n",
    "jointStateStamped = np.stack(jointStateStamped, axis=0)\n",
    "jointVelStamped = np.stack(jointVelStamped, axis=0)\n",
    "timeStamp = np.stack(timeStamp, axis=0)\n",
    "# Evaluate result\n",
    "if (resultMsg.error_code):\n",
    "    print('Arm motion error')\n",
    "    print(resultMsg)\n",
    "else:\n",
    "    print('UR arm motion completed with state ' + str(resultState) + '.')"
   ]
  },
  {
   "cell_type": "code",
   "execution_count": null,
   "id": "7effddaa",
   "metadata": {},
   "outputs": [],
   "source": [
    "# Plot results\n",
    "plt.figure(2)\n",
    "plt.clf()\n",
    "# Plot joint states\n",
    "plt.subplot(211)\n",
    "# plt.xlim([0, 3])\n",
    "for i in range(jointStateStamped.shape[1]):\n",
    "    plt.plot(timeStamp, jointStateStamped[:, i], label=f\"$q_{i+1}$\")\n",
    "\n",
    "    for j in range(q_targets.shape[0]):\n",
    "        plt.plot(t_targets[j], q_targets[j, i], \"ko\")\n",
    "\n",
    "plt.xlabel(\"$t$\", fontsize=12)\n",
    "plt.ylabel(\"$\\mathbf{q}$\", fontsize=12)\n",
    "plt.legend(loc=\"best\", fontsize=10)\n",
    "plt.title(\"Joint states for point to point motion\")\n",
    "plt.grid(True)\n",
    "\n",
    "# Plot joint velocities\n",
    "plt.subplot(212)\n",
    "# plt.xlim([0, 2.5])\n",
    "for i in range(jointVelStamped.shape[1]):\n",
    "    plt.plot(timeStamp, jointVelStamped[:, i], label=f\"$\\dot{{q_{i+1}}}$\")\n",
    "\n",
    "    for j in range(qvel.shape[0]):\n",
    "        plt.plot(t_targets[j], qvel[j, i], \"ko\")\n",
    "plt.xlabel(\"$t$\", fontsize=12)\n",
    "plt.ylabel(\"$\\dot{\\mathbf{q}}$\", fontsize=12)\n",
    "plt.legend(loc=\"best\", fontsize=10)\n",
    "plt.title(\"Joint velocities for point to point motion\")\n",
    "plt.grid(True)\n",
    "\n",
    "# plt.tight_layout()\n",
    "plt.show()"
   ]
  }
 ],
 "metadata": {
  "kernelspec": {
   "display_name": "Python 3 (ipykernel)",
   "language": "python",
   "name": "python3"
  },
  "language_info": {
   "codemirror_mode": {
    "name": "ipython",
    "version": 3
   },
   "file_extension": ".py",
   "mimetype": "text/x-python",
   "name": "python",
   "nbconvert_exporter": "python",
   "pygments_lexer": "ipython3",
   "version": "3.8.10"
  }
 },
 "nbformat": 4,
 "nbformat_minor": 5
}
